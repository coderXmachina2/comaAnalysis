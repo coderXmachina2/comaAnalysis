{
 "cells": [
  {
   "cell_type": "code",
   "execution_count": 26,
   "id": "2380d357-5896-4f06-bcdf-22ecbe5664e7",
   "metadata": {},
   "outputs": [],
   "source": [
    "import glob\n",
    "import importlib\n",
    "import numpy as np\n",
    "\n",
    "from scipy.optimize import curve_fit\n",
    "from astropy.io import fits as pyfits\n",
    "\n",
    "hpproj = glob.glob('./Processed/outIMG/hp_proj/*')"
   ]
  },
  {
   "cell_type": "code",
   "execution_count": 27,
   "id": "f634af62-7f47-4a65-a7a3-ebaf4efba246",
   "metadata": {},
   "outputs": [
    {
     "data": {
      "text/plain": [
       "<module 'comaPyFuncs.paramsSphereEllipse' from '/home/kalilinux/comaRepo/comaAnalysis/comaPyFuncs/paramsSphereEllipse.py'>"
      ]
     },
     "execution_count": 27,
     "metadata": {},
     "output_type": "execute_result"
    }
   ],
   "source": [
    "from comaPyFuncs import plotFuncsIm\n",
    "from comaPyFuncs import plotFuncs1DSpectra\n",
    "from comaPyFuncs import procFuncaPipe\n",
    "from comaPyFuncs import procFuncsModRad1\n",
    "from comaPyFuncs import procFuncsModRad2\n",
    "from comaPyFuncs import procFuncsStats1\n",
    "from comaPyFuncs import procFuncsStats2\n",
    "from comaPyFuncs import procFuncsRescale\n",
    "from comaPyFuncs import procFuncsMisc\n",
    "from comaPyFuncs import procFuncsZSortPlease\n",
    "from comaPyFuncs import paramsSphereEllipse\n",
    "\n",
    "importlib.reload(plotFuncsIm)\n",
    "importlib.reload(plotFuncs1DSpectra)\n",
    "importlib.reload(procFuncaPipe)\n",
    "importlib.reload(procFuncsModRad1)\n",
    "importlib.reload(procFuncsModRad2)\n",
    "importlib.reload(procFuncsStats1)\n",
    "importlib.reload(procFuncsStats2)\n",
    "importlib.reload(procFuncsRescale)\n",
    "importlib.reload(procFuncsMisc)\n",
    "importlib.reload(procFuncsZSortPlease)\n",
    "importlib.reload(paramsSphereEllipse)"
   ]
  },
  {
   "cell_type": "code",
   "execution_count": 28,
   "id": "0ef4a28e-f7ae-4d0a-bc96-ee40eb4b8ab4",
   "metadata": {},
   "outputs": [],
   "source": [
    "hpproj = glob.glob('./hp_proj/*')\n",
    "#I am able to plot some circular and elliptical models\n",
    "offset = 50\n",
    "image=pyfits.open(hpproj[0])[1].data[(350-offset):(350+offset),(350-offset):(350+offset)]\n",
    "header=pyfits.open(hpproj[0])[1].header\n",
    "\n",
    "#This is just load. THese coordinates \n",
    "\n",
    "upscaled_img = procFuncsRescale.zoomrescale(image, samplingfactor=10)\n",
    "\n",
    "normalCircles= 0.1*(np.arange(10, 320, 10))  #For 100x100 \n",
    "upscaledCircles = (np.arange(10, 320, 10)) #For 1000x1000"
   ]
  },
  {
   "cell_type": "code",
   "execution_count": 29,
   "id": "fca9e351-16af-451f-ac13-2e40e692433f",
   "metadata": {},
   "outputs": [],
   "source": [
    "semiMinorAxes = procFuncsZSortPlease.fit_ellipse_params([x[1] for x in paramsSphereEllipse.upscaledEllipses])\n",
    "semiMajorAxes = procFuncsZSortPlease.fit_ellipse_params([x[0] for x in paramsSphereEllipse.upscaledEllipses])"
   ]
  },
  {
   "cell_type": "code",
   "execution_count": 30,
   "id": "92467ca2-d702-4535-af18-37cc2c89171f",
   "metadata": {},
   "outputs": [],
   "source": []
  }
 ],
 "metadata": {
  "kernelspec": {
   "display_name": "Python 3 (ipykernel)",
   "language": "python",
   "name": "python3"
  },
  "language_info": {
   "codemirror_mode": {
    "name": "ipython",
    "version": 3
   },
   "file_extension": ".py",
   "mimetype": "text/x-python",
   "name": "python",
   "nbconvert_exporter": "python",
   "pygments_lexer": "ipython3",
   "version": "3.11.9"
  }
 },
 "nbformat": 4,
 "nbformat_minor": 5
}
