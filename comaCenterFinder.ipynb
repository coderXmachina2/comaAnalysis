{
 "cells": [
  {
   "cell_type": "code",
   "execution_count": 5,
   "id": "9c33cea4-2a41-43c3-81be-86459d7e78da",
   "metadata": {},
   "outputs": [],
   "source": [
    "import glob\n",
    "import importlib\n",
    "import numpy as np"
   ]
  },
  {
   "cell_type": "code",
   "execution_count": 6,
   "id": "f34f9c47-03a0-4ec8-9f9c-4284ddc0d772",
   "metadata": {},
   "outputs": [
    {
     "data": {
      "text/plain": [
       "<module 'comaPyFuncs.procFuncsZSortPlease' from '/home/kalilinux/comaRepo/comaAnalysis/comaPyFuncs/procFuncsZSortPlease.py'>"
      ]
     },
     "execution_count": 6,
     "metadata": {},
     "output_type": "execute_result"
    }
   ],
   "source": [
    "from comaPyFuncs import plotFuncsIm\n",
    "from comaPyFuncs import plotFuncs1DSpectra\n",
    "from comaPyFuncs import procFuncsModRad1\n",
    "from comaPyFuncs import procFuncsModRad2\n",
    "from comaPyFuncs import procFuncsStats1\n",
    "from comaPyFuncs import procFuncsStats2\n",
    "from comaPyFuncs import procFuncsRescale\n",
    "from comaPyFuncs import procFuncsMisc\n",
    "from comaPyFuncs import procFuncsZSortPlease\n",
    "\n",
    "importlib.reload(plotFuncsIm)\n",
    "importlib.reload(plotFuncs1DSpectra)\n",
    "importlib.reload(procFuncsModRad1)\n",
    "importlib.reload(procFuncsModRad2)\n",
    "importlib.reload(procFuncsStats1)\n",
    "importlib.reload(procFuncsStats2)\n",
    "importlib.reload(procFuncsRescale)\n",
    "importlib.reload(procFuncsMisc)\n",
    "importlib.reload(procFuncsZSortPlease)"
   ]
  },
  {
   "cell_type": "code",
   "execution_count": null,
   "id": "d3b273e5-aa89-463c-bae2-6d9bc86d3339",
   "metadata": {},
   "outputs": [],
   "source": [
    "hpproj = glob.glob('./Processed/outIMG/hp_proj/*')"
   ]
  }
 ],
 "metadata": {
  "kernelspec": {
   "display_name": "Python 3 (ipykernel)",
   "language": "python",
   "name": "python3"
  },
  "language_info": {
   "codemirror_mode": {
    "name": "ipython",
    "version": 3
   },
   "file_extension": ".py",
   "mimetype": "text/x-python",
   "name": "python",
   "nbconvert_exporter": "python",
   "pygments_lexer": "ipython3",
   "version": "3.11.9"
  }
 },
 "nbformat": 4,
 "nbformat_minor": 5
}
