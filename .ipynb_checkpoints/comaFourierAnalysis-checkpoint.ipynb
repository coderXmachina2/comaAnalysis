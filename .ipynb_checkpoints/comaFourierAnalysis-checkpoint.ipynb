{
 "cells": [
  {
   "cell_type": "code",
   "execution_count": 23,
   "id": "9c33cea4-2a41-43c3-81be-86459d7e78da",
   "metadata": {},
   "outputs": [],
   "source": [
    "import glob\n",
    "import importlib\n",
    "import numpy as np\n",
    "\n",
    "from astropy.io import fits as pyfits"
   ]
  },
  {
   "cell_type": "code",
   "execution_count": 24,
   "id": "f34f9c47-03a0-4ec8-9f9c-4284ddc0d772",
   "metadata": {},
   "outputs": [
    {
     "data": {
      "text/plain": [
       "<module 'comaPyFuncs.procFuncsZSortPlease' from '/home/kalilinux/comaRepo/comaAnalysis/comaPyFuncs/procFuncsZSortPlease.py'>"
      ]
     },
     "execution_count": 24,
     "metadata": {},
     "output_type": "execute_result"
    }
   ],
   "source": [
    "from comaPyFuncs import plotFuncsIm\n",
    "from comaPyFuncs import plotFuncs1DSpectra\n",
    "from comaPyFuncs import procFuncaPipe\n",
    "from comaPyFuncs import procFuncsModRad1\n",
    "from comaPyFuncs import procFuncsModRad2\n",
    "from comaPyFuncs import procFuncsStats1\n",
    "from comaPyFuncs import procFuncsStats2\n",
    "from comaPyFuncs import procFuncsRescale\n",
    "from comaPyFuncs import procFuncsMisc\n",
    "from comaPyFuncs import procFuncsZSortPlease\n",
    "\n",
    "importlib.reload(plotFuncsIm)\n",
    "importlib.reload(plotFuncs1DSpectra)\n",
    "importlib.reload(procFuncaPipe)\n",
    "importlib.reload(procFuncsModRad1)\n",
    "importlib.reload(procFuncsModRad2)\n",
    "importlib.reload(procFuncsStats1)\n",
    "importlib.reload(procFuncsStats2)\n",
    "importlib.reload(procFuncsRescale)\n",
    "importlib.reload(procFuncsMisc)\n",
    "importlib.reload(procFuncsZSortPlease)"
   ]
  },
  {
   "cell_type": "code",
   "execution_count": 25,
   "id": "d3b273e5-aa89-463c-bae2-6d9bc86d3339",
   "metadata": {},
   "outputs": [],
   "source": [
    "hpproj = glob.glob('./hp_proj/*')\n",
    "#I am able to plot some circular and elliptical models\n",
    "offset = 50\n",
    "image=pyfits.open(hpproj[0])[1].data[(350-offset):(350+offset),(350-offset):(350+offset)]\n",
    "header=pyfits.open(hpproj[0])[1].header\n",
    "\n",
    "#This is just load. THese coordinates \n",
    "\n",
    "upscaled_img = procFuncsRescale.zoomrescale(image, samplingfactor=10)\n",
    "\n",
    "normalCircles= 0.1*(np.arange(10, 320, 10))  #For 100x100 \n",
    "upscaledCircles = (np.arange(10, 320, 10)) #For 1000x1000\n",
    "\n",
    "#The big apple where people never dance."
   ]
  },
  {
   "cell_type": "code",
   "execution_count": 26,
   "id": "def8c2b9-b18b-4050-8029-88ff30d6eabd",
   "metadata": {
    "scrolled": true
   },
   "outputs": [],
   "source": [
    "innercordsStdImg = procFuncaPipe.centfindpipe(upscaled_img, \n",
    "                                              imtype='upscaled Standard Image', \n",
    "                                              innerargs=((482, 505), (499, 520)), \n",
    "                                              zin=1.2, \n",
    "                                              plotTrue=False, verbosityF=False,  verbosityT=False)"
   ]
  },
  {
   "cell_type": "code",
   "execution_count": 28,
   "id": "285bb1c9-e467-4564-8626-94b8c491bcf3",
   "metadata": {},
   "outputs": [
    {
     "data": {
      "text/plain": [
       "array([[7.44728930e-09, 6.34121253e-09, 5.22247661e-09, ...,\n",
       "        1.06587600e-08, 9.60891179e-09, 8.53751088e-09],\n",
       "       [7.66310359e-09, 6.52271474e-09, 5.36804790e-09, ...,\n",
       "        1.09677119e-08, 9.88844111e-09, 8.78600056e-09],\n",
       "       [7.85870526e-09, 6.68666002e-09, 5.49866122e-09, ...,\n",
       "        1.12482332e-08, 1.01423119e-08, 9.01157409e-09],\n",
       "       ...,\n",
       "       [6.70290638e-09, 5.71293191e-09, 4.71473704e-09, ...,\n",
       "        9.59343949e-09, 8.64598869e-09, 7.68156514e-09],\n",
       "       [6.96456473e-09, 5.93399766e-09, 4.89380656e-09, ...,\n",
       "        9.96813490e-09, 8.98447631e-09, 7.98237173e-09],\n",
       "       [7.21359617e-09, 6.14422349e-09, 5.06374533e-09, ...,\n",
       "        1.03244465e-08, 9.30655760e-09, 8.26869351e-09]])"
      ]
     },
     "execution_count": 28,
     "metadata": {},
     "output_type": "execute_result"
    }
   ],
   "source": [
    "procFuncaPipe.Fsmoothing(image, ((50,50), 22), (1000, 1000), verboseT=False    )"
   ]
  },
  {
   "cell_type": "code",
   "execution_count": 30,
   "id": "95f065b9-cd63-47b0-8f44-988547fcedda",
   "metadata": {},
   "outputs": [
    {
     "data": {
      "text/plain": [
       "array([[7.44728930e-09, 6.34121253e-09, 5.22247661e-09, ...,\n",
       "        1.06587600e-08, 9.60891179e-09, 8.53751088e-09],\n",
       "       [7.66310359e-09, 6.52271474e-09, 5.36804790e-09, ...,\n",
       "        1.09677119e-08, 9.88844111e-09, 8.78600056e-09],\n",
       "       [7.85870526e-09, 6.68666002e-09, 5.49866122e-09, ...,\n",
       "        1.12482332e-08, 1.01423119e-08, 9.01157409e-09],\n",
       "       ...,\n",
       "       [6.70290638e-09, 5.71293191e-09, 4.71473704e-09, ...,\n",
       "        9.59343949e-09, 8.64598869e-09, 7.68156514e-09],\n",
       "       [6.96456473e-09, 5.93399766e-09, 4.89380656e-09, ...,\n",
       "        9.96813490e-09, 8.98447631e-09, 7.98237173e-09],\n",
       "       [7.21359617e-09, 6.14422349e-09, 5.06374533e-09, ...,\n",
       "        1.03244465e-08, 9.30655760e-09, 8.26869351e-09]])"
      ]
     },
     "execution_count": 30,
     "metadata": {},
     "output_type": "execute_result"
    }
   ],
   "source": [
    "absIFFT "
   ]
  },
  {
   "cell_type": "code",
   "execution_count": 29,
   "id": "47b57cba-1c3b-4582-9432-046cc46b115d",
   "metadata": {},
   "outputs": [
    {
     "name": "stdout",
     "output_type": "stream",
     "text": [
      "absIFFT shape: (1000, 1000)\n"
     ]
    }
   ],
   "source": [
    "#Smoothing pipe\n",
    "#Fourier Transfor\n",
    "fimage = procFuncsZSortPlease.FFThings(image)['fimage']\n",
    "\n",
    "#Shift\n",
    "fftshiftfimage = procFuncsZSortPlease.FFThings(image)['fftshiftfimage']\n",
    "\n",
    "#Define a threshold in pixel. Anything outside the threshod set to 0\n",
    "zerout = procFuncsZSortPlease.zero_outside_radius(procFuncsZSortPlease.FFThings(image)['fftshiftfimage'],(50,50), 22) \n",
    "\n",
    "#Embed\n",
    "embed = procFuncsZSortPlease.center_complex_image(zerout, (1000, 1000))\n",
    "\n",
    "#InverseShift\n",
    "Ishift = np.fft.ifftshift(embed)\n",
    "\n",
    "#IFFT\n",
    "inverseFFT = np.fft.ifft2(Ishift)\n",
    "\n",
    "#Abs(IFFT)\n",
    "absIFFT = np.abs(inverseFFT)\n",
    "print(\"absIFFT shape:\", absIFFT.shape)"
   ]
  },
  {
   "cell_type": "code",
   "execution_count": null,
   "id": "48fb60d4-09b5-461f-be76-cdcc1e266ba9",
   "metadata": {},
   "outputs": [],
   "source": []
  }
 ],
 "metadata": {
  "kernelspec": {
   "display_name": "Python 3 (ipykernel)",
   "language": "python",
   "name": "python3"
  },
  "language_info": {
   "codemirror_mode": {
    "name": "ipython",
    "version": 3
   },
   "file_extension": ".py",
   "mimetype": "text/x-python",
   "name": "python",
   "nbconvert_exporter": "python",
   "pygments_lexer": "ipython3",
   "version": "3.11.9"
  }
 },
 "nbformat": 4,
 "nbformat_minor": 5
}
